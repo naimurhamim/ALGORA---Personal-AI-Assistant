{
 "cells": [
  {
   "cell_type": "code",
   "execution_count": null,
   "metadata": {},
   "outputs": [],
   "source": [
    "import shutil  # Import the shutil module for file operations\n",
    "import os  # Import the os module for operating system-related functionalities\n",
    "from gradio_client import Client  # Import the Client class from the gradio_client module"
   ]
  },
  {
   "cell_type": "code",
   "execution_count": null,
   "metadata": {},
   "outputs": [],
   "source": [
    "client = Client(\"prodia/fast-stable-diffusion\")  # Create a Client object and connect to the specified Gradio app (\"prodia/fast-stable-diffusion\")"
   ]
  },
  {
   "cell_type": "markdown",
   "metadata": {},
   "source": [
    "# ALL MODELS\n",
    "- 3Guofeng3_v34.safetensors [50f420de]\n",
    "- absolutereality_V16.safetensors [37db0fc3]\n",
    "- absolutereality_v181.safetensors [3d9d4d2b]\n",
    "- amIReal_V41.safetensors [0a8a2e61]\n",
    "- analog-diffusion-1.0.ckpt [9ca13f02]\n",
    "- anythingv3_0-pruned.ckpt [2700c435]\n",
    "- anything-v4.5-pruned.ckpt [65745d25]\n",
    "- anythingV5_PrtRE.safetensors [893e49b9]\n",
    "- AOM3A3_orangemixs.safetensors [9600da17]\n",
    "- blazing_drive_v10g.safetensors [ca1c1eab]\n",
    "- cetusMix_Version35.safetensors [de2f2560]\n",
    "- childrensStories_v13D.safetensors [9dfaabcb]\n",
    "- childrensStories_v1SemiReal.safetensors [a1c56dbb]\n",
    "- childrensStories_v1ToonAnime.safetensors [2ec7b88b]\n",
    "- Counterfeit_v30.safetensors [9e2a8f19]\n",
    "- cuteyukimixAdorable_midchapter3.safetensors [04bdffe6]\n",
    "- cyberrealistic_v33.safetensors [82b0d085]\n",
    "- dalcefo_v4.safetensors [425952fe]\n",
    "- deliberate_v2.safetensors [10ec4b29]\n",
    "- deliberate_v3.safetensors [afd9d2d4]\n",
    "- dreamlike-anime-1.0.safetensors [4520e090]\n",
    "- dreamlike-diffusion-1.0.safetensors [5c9fd6e0]\n",
    "- dreamlike-photoreal-2.0.safetensors [fdcf65e7]\n",
    "- dreamshaper_6BakedVae.safetensors [114c8abb]\n",
    "- dreamshaper_7.safetensors [5cf5ae06]\n",
    "- dreamshaper_8.safetensors [9d40847d]\n",
    "- edgeOfRealism_eorV20.safetensors [3ed5de15]\n",
    "- EimisAnimeDiffusion_V1.ckpt [4f828a15]\n",
    "- elldreths-vivid-mix.safetensors [342d9d26]\n",
    "- epicrealism_naturalSinRC1VAE.safetensors [90a4c676]\n",
    "- ICantBelieveItsNotPhotography_seco.safetensors [4e7a3dfd]\n",
    "- juggernaut_aftermath.safetensors [5e20c455]\n",
    "- lofi_v4.safetensors [ccc204d6]\n",
    "- lyriel_v16.safetensors [68fceea2]\n",
    "- majicmixRealistic_v4.safetensors [29d0de58]\n",
    "- mechamix_v10.safetensors [ee685731]\n",
    "- meinamix_meinaV9.safetensors [2ec66ab0]\n",
    "- meinamix_meinaV11.safetensors [b56ce717]\n",
    "- neverendingDream_v122.safetensors [f964ceeb]\n",
    "- openjourney_V4.ckpt [ca2f377f]\n",
    "- pastelMixStylizedAnime_pruned_fp16.safetensors [793a26e8]\n",
    "- portraitplus_V1.0.safetensors [1400e684]\n",
    "- protogenx34.safetensors [5896f8d5]\n",
    "- Realistic_Vision_V1.4-pruned-fp16.safetensors [8d21810b]\n",
    "- Realistic_Vision_V2.0.safetensors [79587710]\n",
    "- Realistic_Vision_V4.0.safetensors [29a7afaa]\n",
    "- Realistic_Vision_V5.0.safetensors [614d1063]\n",
    "- redshift_diffusion-V10.safetensors [1400e684]\n",
    "- revAnimated_v122.safetensors [3f4fefd9]\n",
    "- rundiffusionFX25D_v10.safetensors [cd12b0ee]\n",
    "- rundiffusionFX_v10.safetensors [cd4e694d]\n",
    "- sdv1_4.ckpt [7460a6fa]\n",
    "- v1-5-pruned-emaonly.safetensors [d7049739]\n",
    "- v1-5-inpainting.safetensors [21c7ab71]\n",
    "- shoninsBeautiful_v10.safetensors [25d8c546]\n",
    "- theallys-mix-ii-churned.safetensors [5d9225a4]\n",
    "- timeless-1.0.ckpt [7c4971d4]\n",
    "- toonyou_beta6.safetensors [980f6b15]\n"
   ]
  },
  {
   "cell_type": "markdown",
   "metadata": {},
   "source": [
    "## SOME BEST MODELS FOR BEST OUTPUTS\n",
    "\n",
    "### REAL OUTPUTS\n",
    "- amIReal_V41.safetensors [0a8a2e61]\n",
    "- absolutereality_v181.safetensors [3d9d4d2b]\n",
    "- cyberrealistic_v33.safetensors [82b0d085]\n",
    "\n",
    "### ANIME OUPTUTS\n",
    "- anythingV5_PrtRE.safetensors [893e49b9]"
   ]
  },
  {
   "cell_type": "code",
   "execution_count": null,
   "metadata": {},
   "outputs": [],
   "source": [
    "# Define the parameters for image generation\n",
    "prompt = \"Generate a stunning and ultrarealistic 8k resolution image of a captivating young woman standing gracefully in a lush garden, bathed in soft, golden sunlight, with chestnut-brown hair, emerald-green eyes, and an elegant floral dress, surrounded by vibrant flowers and foliage. Ensure intricate details, play of light and shadow, and rich textures for a visually immersive and emotionally resonant scene\"\n",
    "\n",
    "negative_prompt = \"3d, cartoon, anime, deformed eyes, deformed nose, deformed ears, deformed nose, bad anatomy, ugly, extra limb, low resolution, pixelated, distorted proportions, unnatural colors, unrealistic lighting, excessive noise, unrealistic shadows, unnatural poses\"\n",
    "\n",
    "stable_diffusion_checkpoint = \"amIReal_V41.safetensors [0a8a2e61]\"  # Checkpoint for stable diffusion model\n",
    "sampling_steps = 20.0  # Number of sampling steps for image generation\n",
    "sampling_method = \"DPM++ 2M Karras\"  # Sampling method for image generation\n",
    "cfg_scale = 7.0  # Scale factor for image generation configuration\n",
    "width = 512  # Width of the generated image\n",
    "height = 512  # Height of the generated image\n",
    "seed = -1.0  # Seed value for reproducibility (set to -1 for random seed)"
   ]
  },
  {
   "cell_type": "code",
   "execution_count": null,
   "metadata": {},
   "outputs": [],
   "source": [
    "prompt = \"a boy holding a sword full of blood. the boy's one finger is cut and he is crying\""
   ]
  },
  {
   "cell_type": "code",
   "execution_count": null,
   "metadata": {},
   "outputs": [],
   "source": [
    "# Call the predict function with the specified parameters to generate an image\n",
    "result = client.predict(\n",
    "    prompt,  # Text prompt for image generation\n",
    "    negative_prompt,  # Negative prompt to guide undesired features in the generated image\n",
    "    stable_diffusion_checkpoint,  # Checkpoint for stable diffusion model\n",
    "    sampling_steps,  # Number of sampling steps for image generation\n",
    "    sampling_method,  # Sampling method for image generation\n",
    "    cfg_scale,  # Scale factor for image generation configuration\n",
    "    width,  # Width of the generated image\n",
    "    height,  # Height of the generated image\n",
    "    seed,  # Seed value for reproducibility (set to -1 for random seed)\n",
    "    api_name=\"/txt2img\"  # Specify the API endpoint (\"/txt2img\") for text-to-image generation\n",
    ")\n"
   ]
  },
  {
   "cell_type": "code",
   "execution_count": null,
   "metadata": {},
   "outputs": [],
   "source": [
    "print(result)  # Print the result obtained from the Gradio Client prediction for text-to-image generation"
   ]
  },
  {
   "cell_type": "code",
   "execution_count": null,
   "metadata": {},
   "outputs": [],
   "source": [
    "# Path to the original image obtained from the result\n",
    "original_path = result\n",
    "\n",
    "# Destination path for moving the image\n",
    "destination_path = r\"image.png\"\n",
    "\n",
    "# Move the image to the new location using shutil.move\n",
    "shutil.move(original_path, destination_path)"
   ]
  },
  {
   "cell_type": "code",
   "execution_count": null,
   "metadata": {},
   "outputs": [],
   "source": [
    "from IPython.display import Image, display  # Import the Image and display classes from IPython.display module\n",
    "\n",
    "# Display an image by providing the filename\n",
    "display(Image(filename=destination_path))"
   ]
  }
 ],
 "metadata": {
  "kernelspec": {
   "display_name": "Python 3",
   "language": "python",
   "name": "python3"
  },
  "language_info": {
   "codemirror_mode": {
    "name": "ipython",
    "version": 3
   },
   "file_extension": ".py",
   "mimetype": "text/x-python",
   "name": "python",
   "nbconvert_exporter": "python",
   "pygments_lexer": "ipython3",
   "version": "3.9.13"
  }
 },
 "nbformat": 4,
 "nbformat_minor": 2
}
